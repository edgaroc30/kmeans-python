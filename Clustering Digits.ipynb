{
 "cells": [
  {
   "cell_type": "markdown",
   "metadata": {},
   "source": [
    "# Clustering using Digits dataset"
   ]
  },
  {
   "cell_type": "markdown",
   "metadata": {},
   "source": [
    "### Loading libraries"
   ]
  },
  {
   "cell_type": "code",
   "execution_count": 1,
   "metadata": {},
   "outputs": [],
   "source": [
    "from sklearn.model_selection import train_test_split\n",
    "from sklearn import cluster, datasets\n",
    "from sklearn.cluster import KMeans\n",
    "from sklearn import metrics\n",
    "from sklearn.metrics import classification_report, confusion_matrix\n",
    "import pandas as pd\n",
    "import matplotlib.pyplot as plt\n",
    "import numpy as np\n",
    "from sklearn.preprocessing import scale"
   ]
  },
  {
   "cell_type": "markdown",
   "metadata": {},
   "source": [
    "### Setting the random seed"
   ]
  },
  {
   "cell_type": "code",
   "execution_count": 2,
   "metadata": {},
   "outputs": [],
   "source": [
    "np.random.seed(30)"
   ]
  },
  {
   "cell_type": "markdown",
   "metadata": {},
   "source": [
    "### Loading digits dataset"
   ]
  },
  {
   "cell_type": "code",
   "execution_count": 3,
   "metadata": {},
   "outputs": [],
   "source": [
    "digits = datasets.load_digits()"
   ]
  },
  {
   "cell_type": "markdown",
   "metadata": {},
   "source": [
    "### Splitting our dataset"
   ]
  },
  {
   "cell_type": "markdown",
   "metadata": {},
   "source": [
    "Using a test size of 40% and a traing set of 60%"
   ]
  },
  {
   "cell_type": "code",
   "execution_count": 4,
   "metadata": {},
   "outputs": [],
   "source": [
    "X_train, X_test, y_train, y_test= train_test_split(digits.data,digits.target, test_size=0.4)\n",
    "x = digits.data\n",
    "y = digits.target"
   ]
  },
  {
   "cell_type": "code",
   "execution_count": 5,
   "metadata": {},
   "outputs": [],
   "source": [
    "def plot_results(inertials):\n",
    "    x, y = zip(*[inertia for inertia in inertials])\n",
    "    plt.plot(x, y, 'ro-', markersize=8, lw=2)\n",
    "    plt.grid(True)\n",
    "    plt.xlabel('Num Clusters')\n",
    "    plt.ylabel('Inertia')\n",
    "    plt.show()\n",
    "\n",
    "\n",
    "def select_clusters(dataset, init_cluster='k-means++', tolerance=0.0001,loops=10,max_iterations=10,\n",
    "                    jobs=16):\n",
    "\n",
    "    inertia_clusters = list()\n",
    "\n",
    "    for i in range(1, loops + 1, 1):\n",
    "        # Object KMeans\n",
    "        kmeans = KMeans(n_clusters=i, max_iter=max_iterations,\n",
    "                        init=init_cluster, tol=tolerance, n_jobs=jobs)\n",
    "\n",
    "        # Calculate Kmeans\n",
    "        kmeans.fit(dataset)\n",
    "\n",
    "        # Obtain inertia\n",
    "        inertia_clusters.append([i, kmeans.inertia_])\n",
    "\n",
    "    plot_results(inertia_clusters)"
   ]
  },
  {
   "cell_type": "code",
   "execution_count": 6,
   "metadata": {},
   "outputs": [
    {
     "data": {
      "image/png": "[encoded data removed]",
      "text/plain": [
       "<matplotlib.figure.Figure at 0x1108aa0f0>"
      ]
     },
     "metadata": {},
     "output_type": "display_data"
    }
   ],
   "source": [
    "select_clusters(dataset = X_train,loops = 12)"
   ]
  },
  {
   "cell_type": "markdown",
   "metadata": {},
   "source": [
    "Using the knob techinque it is not possible to tell how many clusters our sample "
   ]
  },
  {
   "cell_type": "code",
   "execution_count": 7,
   "metadata": {},
   "outputs": [],
   "source": [
    "model = KMeans(n_clusters=10,random_state=30)\n",
    "model.fit(x)\n",
    "x_predict = model.fit_predict(x)\n",
    "x_transform = model.fit_transform(x)"
   ]
  },
  {
   "cell_type": "code",
   "execution_count": 8,
   "metadata": {},
   "outputs": [
    {
     "name": "stdout",
     "output_type": "stream",
     "text": [
      "0.10573177518085698\n",
      "[[  0   0   0   1 177   0   0   0   0   0]\n",
      " [ 24   0  55   0   0  99   2   1   1   0]\n",
      " [148   2   2   0   1   8   0  13   0   3]\n",
      " [  0  13   0   0   0   7   0 154   2   7]\n",
      " [  0   0   5 164   0   3   0   0   0   9]\n",
      " [  0  43   0   2   0   0   1   0 136   0]\n",
      " [  0   0   1   0   1   2 177   0   0   0]\n",
      " [  0   0   2   0   0   2   0   0   0 175]\n",
      " [  3  52   6   0   0 100   2   2   4   5]\n",
      " [  0 139  20   0   0   2   0   6   6   7]]\n"
     ]
    }
   ],
   "source": [
    "print(metrics.accuracy_score(y, x_predict))\n",
    "print(metrics.confusion_matrix(y, x_predict))"
   ]
  }
 ],
 "metadata": {
  "kernelspec": {
   "display_name": "Python 3",
   "language": "python",
   "name": "python3"
  },
  "language_info": {
   "codemirror_mode": {
    "name": "ipython",
    "version": 3
   },
   "file_extension": ".py",
   "mimetype": "text/x-python",
   "name": "python",
   "nbconvert_exporter": "python",
   "pygments_lexer": "ipython3",
   "version": "3.6.4"
  }
 },
 "nbformat": 4,
 "nbformat_minor": 2
}
